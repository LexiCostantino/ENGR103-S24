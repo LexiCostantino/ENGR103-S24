{
 "cells": [
  {
   "cell_type": "markdown",
   "metadata": {},
   "source": [
    "# Lists, Histograms, and Basic Statistical Commands\n",
    "\n"
   ]
  },
  {
   "cell_type": "markdown",
   "metadata": {},
   "source": [
    "## Dependencies\n",
    "\n",
    "This is where we load in the various libraries of python tools that are needed for the particular work we are undertaking.  \n",
    "  \n",
    "```numpy``` is a numerical tools library - often imported as np. ```numpy``` also contains various statistical tools, some of which we will use today. There are other libraries dedicated to statistical tools but 'numpy' has everything we need for now.  \n",
    "```matplotlib```is a 'MATLAB like' library. \n",
    "```matplotlib.pyplot``` is often imported as ```plt``` to make it easier to use. ```matplotlib``` has the plotting tools that we need for this lab.  \n",
    "\n",
    "The following code will need to be run before we try to run any code with ```.np``` or ```.plt``` commands. "
   ]
  },
  {
   "cell_type": "code",
   "execution_count": 3,
   "metadata": {},
   "outputs": [],
   "source": [
    "import numpy as np\n",
    "import matplotlib.pyplot as plt"
   ]
  },
  {
   "cell_type": "markdown",
   "metadata": {},
   "source": [
    "## Lists \n",
    "\n",
    "We usually talk about our data as a list of data points. In spreadsheets we enter the data in a set of successive cells in a column or a row. There is a creature in python called a list which is a way of accomplishing a similar task.\n",
    "\n",
    "[python documentation: list](https://docs.python.org/3.7/tutorial/datastructures.html) This link to the python documentation for lists will bury you in features and uses of lists. It is easy and common to overwhelmed by the deluge of information which is why these notebooks are created. I include this reference link so you could explore more deeply if you have time to do so but all that you need is contained within this notebook.\n",
    "\n",
    "Our lists need names so we can work with them later on. It is best practice to use names that have relevant meaning. Note the square brackets and the comma as a separator between data points."
   ]
  },
  {
   "cell_type": "code",
   "execution_count": 2,
   "metadata": {},
   "outputs": [
    {
     "name": "stdout",
     "output_type": "stream",
     "text": [
      "[1, 1, 1, 2, 2, 2, 3, 3, 3, 4, 4, 4, 5, 5, 5, 6, 6, 6]\n",
      "Second data set: [1, 1, 1, 2, 2, 2, 3, 3, 3, 4, 4, 4, 5, 5, 5, 6, 6, 6, 7, 7, 7, 8, 8, 8]\n"
     ]
    }
   ],
   "source": [
    "data1 = [1,1,1,2,2,2,3,3,3,4,4,4,5,5,5,6,6,6]\n",
    "data2 = [1,1,1,2,2,2,3,3,3,4,4,4,5,5,5,6,6,6,7,7,7,8,8,8]\n",
    "# What follows is 2 ways to print out and check your data.\n",
    "print(data1)\n",
    "print(\"Second data set:\",data2)"
   ]
  },
  {
   "cell_type": "markdown",
   "metadata": {},
   "source": [
    "## Comments\n",
    "\n",
    "Note that I included a comment which read \"What follows is 2 ways to print out and check your data.\" Comments are useful to explain what individual lines of code do. \n",
    "\n",
    "To write a comment, place a ```#``` in front of the code that you would like to \"comment out\".\n",
    "\n",
    "Commenting out code is useful not only to provide commentary, but to remove code that you will not be using now, but may like to use later. \n",
    "\n",
    "### Try it yourself!\n",
    "\n",
    "Comment out the lines that say ```print(data1)``` and ```print(\"Second data set:\",data2)``` and then re-run the above code cell."
   ]
  },
  {
   "cell_type": "markdown",
   "metadata": {},
   "source": [
    "## Operations on lists\n",
    "\n",
    "There are a number of ways to mathematically manipulate lists. The following is a quick sampling of what is possible."
   ]
  },
  {
   "cell_type": "code",
   "execution_count": 77,
   "metadata": {},
   "outputs": [
    {
     "name": "stdout",
     "output_type": "stream",
     "text": [
      "[1, 1, 1, 4, 4, 4, 9, 9, 9, 16, 16, 16, 25, 25, 25, 36, 36, 36]\n",
      "[1, 1, 1, 2, 2, 2, 3, 3, 3, 4, 4, 4, 5, 5, 5, 6, 6, 6, 1, 1, 1, 2, 2, 2, 3, 3, 3, 4, 4, 4, 5, 5, 5, 6, 6, 6, 7, 7, 7, 8, 8, 8]\n"
     ]
    }
   ],
   "source": [
    "data3 = [x**2 for x in data1]\n",
    "print(data3)\n",
    "\n",
    "data4= data1+data2\n",
    "print(data4)"
   ]
  },
  {
   "cell_type": "markdown",
   "metadata": {},
   "source": [
    "### Question for you\n",
    "\n",
    "In your own words, what are ```list3``` and ```list4```? How are they obtained from ```list1``` and ```list2```?\n",
    "\n",
    "\n",
    "## Check data points\n",
    "\n",
    "There are various ways you might choose to check your data points. You can look through the list above or you can ask python to count how many data points for you as shown below. Check that the number of data points matches your expectation. In the long run we will use this technique to be sure we have the same number of x data points as y data points when we make plots.\n",
    "\n",
    "You can also have python count how many times a certain entry appears on a list. For this, we use the ```.count()``` operation."
   ]
  },
  {
   "cell_type": "code",
   "execution_count": 11,
   "metadata": {},
   "outputs": [
    {
     "name": "stdout",
     "output_type": "stream",
     "text": [
      "number of data points (1): 18\n",
      "number of data points (2): 24\n"
     ]
    },
    {
     "data": {
      "text/plain": [
       "3"
      ]
     },
     "execution_count": 11,
     "metadata": {},
     "output_type": "execute_result"
    }
   ],
   "source": [
    "data1length = len(data1)\n",
    "data2length = len(data2)\n",
    "# length counts how many 'data points' in the list\n",
    "print(\"number of data points (1):\", data1length)\n",
    "print(\"number of data points (2):\", data2length)\n",
    "#Counts the number of times '5' appears in 'List1'\n",
    "data1.count(5)"
   ]
  },
  {
   "cell_type": "markdown",
   "metadata": {},
   "source": [
    "## Statistics\n",
    "\n",
    "If you are collecting a set of data, you may be interested in performing a statistical analysis. \n",
    "\n",
    "The ```numpy``` library contains many useful tools that could aid in such an analysis. The documentation can be found here: [numpy statistics](https://docs.scipy.org/doc/numpy/reference/routines.statistics.html).\n",
    "\n",
    "When performing a statistical analysis, you may be interested in quantities such as mean (average), median (middle value of the set), min, max, and standard deviation (a way to quantify the spread of a data set). We will use these more in the future. **It is okay to not know what standard deviation is at this point :)**---we will discuss it more in the future. The following are the commands to access such operations:"
   ]
  },
  {
   "cell_type": "code",
   "execution_count": 4,
   "metadata": {},
   "outputs": [
    {
     "name": "stdout",
     "output_type": "stream",
     "text": [
      "Data set 1 Mean 3.5\n",
      "Data set 1 Median 3.5\n",
      "Data set 1 Std Dev 1.707825127659933\n",
      "Data set 1 min 1\n",
      "Data set 1 max 6\n"
     ]
    }
   ],
   "source": [
    "data1mean = np.mean(data1)\n",
    "data1median = np.median(data1)\n",
    "data1stddev = np.std(data1)\n",
    "data1min = np.min(data1)\n",
    "data1max = np.max(data1)\n",
    "print(\"Data set 1 Mean\",data1mean)\n",
    "print(\"Data set 1 Median\",data1median)\n",
    "print(\"Data set 1 Std Dev\",data1stddev)\n",
    "print(\"Data set 1 min\",data1min)\n",
    "print(\"Data set 1 max\",data1max)"
   ]
  },
  {
   "cell_type": "code",
   "execution_count": 21,
   "metadata": {},
   "outputs": [
    {
     "name": "stdout",
     "output_type": "stream",
     "text": [
      "Data set 2 Mean 4.5\n",
      "Data set 2 Median 4.5\n",
      "Data set 2 Std Dev 2.29128784747792\n",
      "Data set 2 min 1\n",
      "Data set 2 max 8\n"
     ]
    }
   ],
   "source": [
    "data2mean = np.mean(data2)\n",
    "data2median = np.median(data2)\n",
    "data2stddev = np.std(data2)\n",
    "data2min = np.min(data2)\n",
    "data2max = np.max(data2)\n",
    "print(\"Data set 2 Mean\",data2mean)\n",
    "print(\"Data set 2 Median\",data2median)\n",
    "print(\"Data set 2 Std Dev\",data2stddev)\n",
    "print(\"Data set 2 min\",data2min)\n",
    "print(\"Data set 2 max\",data2max)"
   ]
  },
  {
   "cell_type": "markdown",
   "metadata": {},
   "source": [
    "## Basic Histogram\n",
    "\n",
    "We will now build some histograms with the above data!\n",
    "\n",
    "From a structural point of view, the plt.hist command creates the histogram. The histogram can then be displayed by using the plt.show() command. As the plt.hist command generates the plot it also returns three bits of information - the heights of each bin (array), the edges of each bin (array), and the patch objects that are the bars that are plotted. Here is some documentation for histograms: [matplotlib.pyplot.hist](https://matplotlib.org/3.1.1/api/_as_gen/matplotlib.pyplot.hist.html) . "
   ]
  },
  {
   "cell_type": "code",
   "execution_count": 8,
   "metadata": {},
   "outputs": [
    {
     "data": {
      "image/png": "[encoded data removed]",
      "text/plain": [
       "<Figure size 640x480 with 1 Axes>"
      ]
     },
     "metadata": {},
     "output_type": "display_data"
    }
   ],
   "source": [
    "# choose how many bins you want to display\n",
    "# ...also set the histogram type in the arguments\n",
    "num_bins = 8\n",
    "fullrange = [0,7]\n",
    "height, bins, patches = plt.hist(data1, num_bins, fullrange, histtype = \"bar\", color=\"red\", alpha= .1)\n",
    "#print(height)\n",
    "#print(bins)\n",
    "#print(patches)\n",
    "plt.show()"
   ]
  },
  {
   "cell_type": "markdown",
   "metadata": {},
   "source": [
    "## Histogram Styles\n",
    "\n",
    "```histtype``` is an argument that you can pass to 'plt.hist' that defines the style of histogram. The default type is \"bar\" which gives what you would usually expect if there is a single data list. The other options for 'histtype' are \"barstacked\", \"step\", and \"stepfilled\". The \"stepfilled\" style solves some of the consideration discussed above.\n",
    "\n",
    "```alpha``` is one of many 'patch' properties--- pecifically the density of the color. Here is some documentation for more patch properties: [patch properties](https://matplotlib.org/api/_as_gen/matplotlib.patches.Patch.html#matplotlib.patches.Patch.set_alpha).\n",
    "\n",
    "### Try it yourself!\n",
    "\n",
    "Remove the comment symbol from ```#print(height)``` to print the height of ```plt.hist```. In your own words, what is this information?\n",
    "\n",
    "Do the same for ```#print(bins)```. In your own words, what does this information tell you?\n",
    "\n",
    "Try changing the values for ```num_bins``` and ```fullrange```. What happens? Now try to print the height and bins of ```plt.hist```. Describe what you find.\n"
   ]
  },
  {
   "cell_type": "code",
   "execution_count": null,
   "metadata": {},
   "outputs": [],
   "source": []
  }
 ],
 "metadata": {
  "kernelspec": {
   "display_name": "Python 3 (ipykernel)",
   "language": "python",
   "name": "python3"
  },
  "language_info": {
   "codemirror_mode": {
    "name": "ipython",
    "version": 3
   },
   "file_extension": ".py",
   "mimetype": "text/x-python",
   "name": "python",
   "nbconvert_exporter": "python",
   "pygments_lexer": "ipython3",
   "version": "3.11.7"
  }
 },
 "nbformat": 4,
 "nbformat_minor": 4
}
