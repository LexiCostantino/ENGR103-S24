{
 "cells": [
  {
   "attachments": {},
   "cell_type": "markdown",
   "metadata": {},
   "source": [
    "# Jupyter Intro Lab\n",
    "## April 2, 2024\n",
    "\n",
    "<!--\n",
    "You could use ### to list your groupmmates or use another subtitle. I've ``commented'' this out (that means that it won't show in the final pdf) by placing using the syntax that you see in the above and below lines. Another test comment is below.\n",
    "--> \n",
    "\n",
    "<!--\n",
    "Hi\n",
    "--> \n",
    " >\n",
    "\n",
    "#### Lab Deliverables---Overview\n",
    "\n",
    "Throughout this notebook, there will be a number of \"try this yourself\" exercises. These are not mandatory, but rather for your own edification. The lab deliverables are listed at the bottom of the notebook. Performing some of the \"try it\" exercises will, however, make the lab deliverables easier to accomplish when you get to that point.\n",
    "\n",
    "#### First Steps:\n",
    "\n",
    "When you start a notebook the markdown cells are usually 'rendered' meaning they have been processed to yield the intended output. This is similar to the html code that is behind a webpage. Your task in this lab is to follow along with this guide and try out a variety of the basic tools that you will use thoughout the course.\n",
    "\n",
    "1: To access the markdown syntax that produces the desired output you can double click on this cell. When you do so you should see things change inside this particular unit of the notebook. This unit is called a cell. \n",
    "\n",
    "2: When you want to see the rendered version of the cell 'shift-return' will render the active cell (the one with the blue bar next to it on the left). Try these two steps.\n",
    "\n",
    "You can edit the text and other markdown syntax much like you do in a standard word processing program. You will find that you can **NOT** edit the text or syntax when the cell is rendered.\n",
    "\n",
    "3: To create a new cell use the '+' at the top of your notebook window. \n",
    "<img src=\"https://github.com/LexiCostantino/ENGR103-S24/blob/main/images/IntroLab1.jpg?raw=true\" />\n",
    "\n",
    "This will create a new cell after the currently active cell. When you do so the new cell will, by default, expect that it is a code cell. This is indicated by the small brackets to the left of the cell.  \n",
    "<img src=\"https://raw.githubusercontent.com/smithrockmaker/PH211/master/images/codeCell.png\" />\n",
    "\n",
    "To let the notebook know that you want it to be a markdown cell select 'markdown' from the dropdown menu just below the notebook title.  \n",
    "<img src=\"https://raw.githubusercontent.com/smithrockmaker/PH211/master/images/cellType.png\" />\n",
    "\n",
    "You will notice that the small brackets have disappeared.  \n",
    "<img src=\"https://raw.githubusercontent.com/smithrockmaker/PH211/master/images/markdownCell.png\" />\n",
    "\n",
    "**Note:** Images need to be linked in order to appear in the document. In standard practice, you may choose to keep these files stored in the same folder as your other LaTex/Jupyter documents---this is easiest to manage locally. When I choose to share my files with you all, however, I would rather not have you all download the .tex/.ipynb files *and* a folder full of images. Therefore, I have chosen to upload my images to Github or source them elsewhere on the public web. "
   ]
  },
  {
   "cell_type": "markdown",
   "metadata": {},
   "source": [
    "#### Next Step---Try it!\n",
    "\n",
    "For most class deliverables you are asked to have a header in the first cell of your notebook that includes:  \n",
    "- a title for the lab in a fairly large font\n",
    "- the date and your name\n",
    "- a list of your group mates or folx you worked with\n",
    "\n",
    "You could just edit this notebook to produce this result but if you do that you will lose a number of useful references for how to do things like embed images (first cell), lists (this cell), or hot links (next cell) in your lab report. My recommendation is to go to the Jupyterlab 'File' menu and open a new notebook. The new notebook will show up in a separate tab in the Jupyterlab window. Again, in the 'File' menu, use 'Save Notebook As' to save this new notebook with a useful name. Now you will have both this set of instructions and your personal lab notebook open at the same time. "
   ]
  },
  {
   "cell_type": "markdown",
   "metadata": {},
   "source": [
    "#### Other Thoughts:   \n",
    "If I just start a new line in the markdown text \n",
    "(look at what I did) \n",
    "the processor doesn't produce \n",
    "a new \n",
    "line when it runs the \n",
    "cell. To get a new line I have to be sure to leave \n",
    "two (2) spaces at the end of the previous line.  \n",
    "\n",
    "This is what it looks like if I leave a blank line in the markdown text that I am typing.\n",
    "\n",
    "You also have access to some quick ways to create **bold** type, *italic* type, and ***both***. There are lots more possibilities that you can find in the markdown tutorial links you can access. Bruce Emerson (recently retired and taught at COCC for a long time) has a great list of resources for Markdown/Python/LaTex/etc on his website: [Coding Resources and Documentation](http://coccweb.cocc.edu/bemerson/PhysicsGlobal/Courses/PH211/PH211Learning/PH211Software/PH211Softpage.html) (and now you know how to make a hot link)."
   ]
  },
  {
   "cell_type": "markdown",
   "metadata": {},
   "source": [
    "## LaTeX\n",
    "\n",
    "LaTex was created as a typesetting language to allow high levels of control over the production of technical and scientific documents. It is extremely useful for use when typing up documents that have any sort of math in them. It is also useful when typing documents with lots of sources---it makes citing sources very easy! Markdown uses many LaTex commands (specifically many of the math commands) and can be thought of as a slightly more beginner-friendly version of LaTex."
   ]
  },
  {
   "cell_type": "markdown",
   "metadata": {},
   "source": [
    "## Math stuff\n",
    "\n",
    "### Basics\n",
    "\n",
    "To write in math mode, write ```$``` or ```$$``` around the text. This is how you can write equations using LaTex. One ```$``` is used to write an inline equation. ```$$``` is used for an equation that you would like to stand out on in its own line (and centered). An example of each follows.\n",
    "\n",
    "In trigonometry, we learned $ 1 = sin(\\theta)^2 + cos(\\theta)^2$, which is true for any angle.\n",
    "\n",
    "Euler's formula tells us that for any $\\varphi$,\n",
    "$$ e^{i\\varphi}=cos(\\varphi)+isin(\\varphi).$$\n",
    "This is true for any $\\varphi \\in \\mathcal{C}$.\n",
    "\n",
    "Writing mathematical expressions using embedded LaTeX is a little like a secret code (generally referred to as a markup language - html is also a markup language).\n",
    "\n",
    "### Subscripts/Superscripts\n",
    "\n",
    "Simple:\n",
    "\n",
    "$ x^3 $ or $xy_i$\n",
    "\n",
    "More Complex:\n",
    "\n",
    "$ z^{m+1}$ or $F_{friction}$\n",
    "\n",
    "or Ridiculous:\n",
    "\n",
    "$$p^{n^2 + \\pi_2}_{\\sqrt{x+y^{2}_{1}}}$$\n",
    "\n",
    "In the 'ridiculous' example remove one of the curly brackets ```}``` in the expression and notice how it doesn't render. This is what usually happens when you don't complete all the brackets properly.\n",
    "\n",
    "### Fractions\n",
    "\n",
    "$$ \\frac{\\partial^2 \\psi_n}{\\partial x^2} $$\n",
    "\n",
    "### Vectors\n",
    "\n",
    "$$ \\frac{\\vec{F}_\\text{net}}{m} = \\frac{d\\vec{v}}{dt} $$\n",
    "\n",
    "$$ \\vec{B} = B_{x} \\hat{x} + B_{y} \\hat{y}+ B_{z} \\hat{z}$$\n",
    "\n",
    "### Font Size Control\n",
    "\n",
    "$$ \\large \\pm \\frac{z^{m+1}}{a^2 + b^2} $$\n",
    "\n",
    "$$ \\tiny \\pm\\frac{z^{m+1}}{a^2 + b^2} $$\n",
    "\n",
    "$$ \\huge \\pm\\frac{z^{m+1}}{a^2 + b^2} $$\n",
    "\n",
    "### Some Overkill \n",
    "\n",
    "$$\n",
    "G\\, (z,z') \\equiv \\sum_{n=0}^\\infty G^{(n)}\\, (z,z') =\n",
    "\\left(\\frac{i}{k}\\right)\n",
    "\\int_{-i \\infty}^{i \\infty} d\\alpha \\,\n",
    "\\frac{1}{P(\\alpha,\\bar \\alpha)^{-1} +  \\hat\\lambda^2 {\\mathcal B}(\\alpha)}\n",
    " \\Omega^{(0)}_{\\alpha}\\,(z,z')\n",
    " $$\n",
    "\n",
    "This is an actual equation from my dissertation. This is totally overkill for what you will need, but I am mostly just trying to give you a sampling of different operators so that you can steal them for your own work. \n",
    "\n",
    "### Try it!\n",
    "\n",
    "Create another markdown cell below this cell. In that cell, use LaTeX to label and write the Pythagorean formula for the hypotenuse (not the square of the hypotenuse) given a triangle with sides a and b.\n",
    "\n",
    "Label and write the quadratic formula. All the tools you need to do this are in this markdown cell."
   ]
  },
  {
   "cell_type": "markdown",
   "metadata": {},
   "source": [
    "## Very Basic Python\n",
    "\n",
    "If you create code cell (the default) you will see the square brackets to the left of the cell. When you 'execute' the cell using 'shift-return' an \\* will appear in the brackets while the code is being executed. After the execution is complete a number will be displayed in the brackets. You can also 'execute' a cell using the run button to the right of the clipboard in the notebook menu.\n",
    "\n",
    "Sometime the cell executes so quickly you don't get to see the \\* and other times you will wonder if the system is stuck. We will explore these possibilities as they come up in the future. \n",
    "\n",
    "#### Hello World\n",
    "\n",
    "It always starts with 'Hello World' so lets get that out of the way...```print()``` is a command that tells python to output the 'argument' of the command - the stuff inside the parentheses - and the double quotes tell python that it's text. See what happens if you remove the quotes or replace them with single quotes."
   ]
  },
  {
   "cell_type": "code",
   "execution_count": 2,
   "metadata": {},
   "outputs": [
    {
     "name": "stdout",
     "output_type": "stream",
     "text": [
      "Hello World\n"
     ]
    }
   ],
   "source": [
    "print('Hello World')"
   ]
  },
  {
   "cell_type": "markdown",
   "metadata": {},
   "source": [
    "## Basic Math Operations\n",
    "\n",
    "\\* is multiply, / is divide, + and - are pretty clear. The only potential confusion is what to do for powers and roots -- ** gives us exponents which gives us roots - as fractional powers as well.\n",
    "\n",
    "Do some basic math operations in the following code cell to get comfortable with these operations.\n",
    "\n",
    "Note: You may notice that I had to use a ```\\*``` in the markdown syntax to produce just a \\* in the rendered text. The \\* is a control character - tells markdown to make the next stuff italic -  and the ```\\``` tells markdown to ignore the special nature of the character that follows it."
   ]
  },
  {
   "cell_type": "code",
   "execution_count": 3,
   "metadata": {},
   "outputs": [
    {
     "data": {
      "text/plain": [
       "28.0"
      ]
     },
     "execution_count": 3,
     "metadata": {},
     "output_type": "execute_result"
    }
   ],
   "source": [
    "2**5 - 18/3 + 4**.5"
   ]
  },
  {
   "cell_type": "markdown",
   "metadata": {},
   "source": [
    "### Numpy\n",
    "\n",
    "The basic math calculations in python don't really take us far enough for a physics or engineering class. One of the valuable features of python is that the greater community has written libraries of useful tools that we can access relatively easily. One of those libraries is call numpy - for numerical python - and it makes many useful mathematical operations more accessible. For now we will focus primarily on trig functions, square roots, squares, and powers. \n",
    "\n",
    "In the next cell I have used the ```np.sin()``` function to find the sine of 30. The result should tell you whether ```np.sin()``` assumes the angle is in degrees or radians. \n",
    "\n",
    "Ignore the ```import numpy as np``` statement. This is how we make the numpy library available to our notebook. np is defined to be a synonym for numpy. We will learn more about this in the future."
   ]
  },
  {
   "cell_type": "code",
   "execution_count": 2,
   "metadata": {},
   "outputs": [
    {
     "data": {
      "text/plain": [
       "0.49999999999999994"
      ]
     },
     "execution_count": 2,
     "metadata": {},
     "output_type": "execute_result"
    }
   ],
   "source": [
    "import numpy as np\n",
    "np.sin(np.pi*30/180)"
   ]
  },
  {
   "cell_type": "code",
   "execution_count": 11,
   "metadata": {},
   "outputs": [
    {
     "data": {
      "text/plain": [
       "1.5707963267948966"
      ]
     },
     "execution_count": 11,
     "metadata": {},
     "output_type": "execute_result"
    }
   ],
   "source": [
    "90*(np.pi/180)"
   ]
  },
  {
   "cell_type": "markdown",
   "metadata": {},
   "source": [
    "### Possibilities"
   ]
  },
  {
   "cell_type": "code",
   "execution_count": 6,
   "metadata": {},
   "outputs": [
    {
     "data": {
      "text/plain": [
       "-959.0427897874935"
      ]
     },
     "execution_count": 6,
     "metadata": {},
     "output_type": "execute_result"
    }
   ],
   "source": [
    "(np.power(16,2.7)*34.567/12.666)*np.sin(3.5)-2.33/4*(5.2+7)+np.sqrt(545933.2) + np.square(4)"
   ]
  },
  {
   "cell_type": "markdown",
   "metadata": {},
   "source": [
    "### Try it!\n",
    "\n",
    "Create another code cell and use basic python mathematical operations to calculate the magnitude of v in this expression\n",
    "\n",
    "$$ |v| = \\sqrt{14.494^2 + 6.243^2}$$"
   ]
  },
  {
   "cell_type": "markdown",
   "metadata": {},
   "source": [
    "### Assigning variables\n",
    "\n",
    "It is tremendously easy to get buried in numbers spewing out of your calculations and physics models. Learning to assign variable names that help your reader understand what you're doing is well worth the effort. We will speak more of this as we go deeper into the course."
   ]
  },
  {
   "cell_type": "code",
   "execution_count": 4,
   "metadata": {},
   "outputs": [
    {
     "name": "stdout",
     "output_type": "stream",
     "text": [
      "This is the result of the giant mess is:  -959.0427897874935\n"
     ]
    }
   ],
   "source": [
    "what_a_mess = (np.power(16,2.7)*34.567/12.666)*np.sin(3.5)-2.33/4*(5.2+7)+np.sqrt(545933.2) + np.square(4)\n",
    "print(\"This is the result of the giant mess is: \", what_a_mess)"
   ]
  },
  {
   "cell_type": "markdown",
   "metadata": {},
   "source": [
    "### Try it!\n",
    "\n",
    "Solve for v algebraically and then write your expression for v below using markdown tools. Then calculate v in a code cell using numpy.\n",
    "\n",
    "$$ -0.015 v^2 -0.08 * 170 *\\cos{(25^\\circ)} + 170* \\sin{(25^\\circ)} = -5.280$$\n",
    "\n",
    "$$ v = ??$$"
   ]
  },
  {
   "cell_type": "markdown",
   "metadata": {},
   "source": [
    "## Lab Deliverables:\n",
    "\n",
    "-Create a new .ipynb file for this lab. In the first cell of your lab notebook create the header information requested above in reasonable choices of format to distinguish the different parts. Following the header information, include the following picture as well as the variable and task information that follows.\n",
    "\n",
    "<img src=\"https://github.com/LexiCostantino/ENGR103-S24/blob/main/images/Triangles.jpg?raw=true\" />\n",
    "\n",
    "$\\lambda=6$, $\\varphi\\approx 61.39^\\circ$, $\\xi=3$, and $\\gamma=8$. \n",
    "\n",
    "Your task is to solve for the missing sides on both triangles by using \"SohCahToa\" and the Pythagorean theorem. [\"SohCahToa\" review if needed](https://www.youtube.com/watch?v=I3jyBUyjg48).\n",
    "\n",
    "-In a markdown cell, use the LaTex math mode to write the Pythagorean theorem and \"SohCahToa\" in terms of the variables. You will have to come up with names for the missing sides. Do several lines of algebra in math mode to solve for the unknown variables that you named in terms of the known varibales. **Aside**: Typically in physics, we will use the \"equiv\" symbol ($\\equiv$) to mean that we are defining a new variable. For example, $\\vec{q}\\equiv\\vec{p}_1-\\vec{p}_2$ means that we are defining $\\vec{q}$ to be equal to $\\vec{p}_1-\\vec{p}_2$. In other words, we are giving the combination of variables $\\vec{p}_1-\\vec{p}_2$ a new name ($\\vec{q}$), which is more convenient to use that writing $\\vec{p}_1-\\vec{p}_2$ all over the place. This is similar to how we defined ```what_a_mess``` above. \n",
    "\n",
    "-Once you have a final expression for your unknowns in terms of the known variables, create a code cell beneath the markdown cell. In this code cell, define your variables and then have Python calculate the values for you. From there, have Python print your values.\n",
    "\n",
    "-Finally, present your results in a markdown cell with each result getting its own stand-alone equation.\n",
    "\n",
    "### Generate .pdf and turn in!\n",
    "\n",
    "All that remains to do is to export your notebook to a pdf document that you can turn them in on Canvas. In a professional work setting you might well share you notebook directly with your colleagues or it may be hosted on a github repository for your job site. For us, because you are turning your notebooks in on Canvas they need to be converted to pdfs so they can be recognized by Canvas. The link below is our current best process for converting the notebook to a pdf. \n",
    "\n",
    "[Current Best pdf Export Process](http://coccweb.cocc.edu/bemerson/PhysicsGlobal/Courses/PH211/PH211Learning/PH211Software/Jupyter/PH211JupyterExpt.html)\n",
    "\n",
    "**Note:** You may well ask why not just export the notebook directly to a pdf (an option in the 'Export Notebook As' menu)? Seems obvious enough but the broad experience across many users is that there are many ways that export process can break. The process documented above has been the most reliable.\n"
   ]
  },
  {
   "cell_type": "code",
   "execution_count": null,
   "metadata": {},
   "outputs": [],
   "source": []
  }
 ],
 "metadata": {
  "kernelspec": {
   "display_name": "Python 3 (ipykernel)",
   "language": "python",
   "name": "python3"
  },
  "language_info": {
   "codemirror_mode": {
    "name": "ipython",
    "version": 3
   },
   "file_extension": ".py",
   "mimetype": "text/x-python",
   "name": "python",
   "nbconvert_exporter": "python",
   "pygments_lexer": "ipython3",
   "version": "3.11.7"
  }
 },
 "nbformat": 4,
 "nbformat_minor": 4
}
